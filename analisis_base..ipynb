{
 "cells": [
  {
   "cell_type": "code",
   "execution_count": 8,
   "metadata": {},
   "outputs": [],
   "source": [
    "import pandas as pd\n",
    "import math"
   ]
  },
  {
   "cell_type": "code",
   "execution_count": 9,
   "metadata": {},
   "outputs": [
    {
     "name": "stderr",
     "output_type": "stream",
     "text": [
      "/tmp/ipykernel_24237/2310679086.py:1: DtypeWarning: Columns (20,21) have mixed types. Specify dtype option on import or set low_memory=False.\n",
      "  df_data = pd.read_csv('./Bases de Datos/Base_analisis.csv')\n"
     ]
    }
   ],
   "source": [
    "df_data = pd.read_csv('./Bases de Datos/Base_analisis.csv')"
   ]
  },
  {
   "cell_type": "code",
   "execution_count": 10,
   "metadata": {},
   "outputs": [
    {
     "data": {
      "text/html": [
       "<div>\n",
       "<style scoped>\n",
       "    .dataframe tbody tr th:only-of-type {\n",
       "        vertical-align: middle;\n",
       "    }\n",
       "\n",
       "    .dataframe tbody tr th {\n",
       "        vertical-align: top;\n",
       "    }\n",
       "\n",
       "    .dataframe thead th {\n",
       "        text-align: right;\n",
       "    }\n",
       "</style>\n",
       "<table border=\"1\" class=\"dataframe\">\n",
       "  <thead>\n",
       "    <tr style=\"text-align: right;\">\n",
       "      <th></th>\n",
       "      <th>Unnamed: 0</th>\n",
       "      <th>lat_lon</th>\n",
       "      <th>co</th>\n",
       "      <th>no</th>\n",
       "      <th>no2</th>\n",
       "      <th>o3</th>\n",
       "      <th>so2</th>\n",
       "      <th>pm2_5</th>\n",
       "      <th>pm10</th>\n",
       "      <th>nh3</th>\n",
       "      <th>...</th>\n",
       "      <th>color</th>\n",
       "      <th>Level</th>\n",
       "      <th>date</th>\n",
       "      <th>name</th>\n",
       "      <th>height</th>\n",
       "      <th>latitude</th>\n",
       "      <th>longitude</th>\n",
       "      <th>location</th>\n",
       "      <th>STA_Notes</th>\n",
       "      <th>ImageDescription</th>\n",
       "    </tr>\n",
       "  </thead>\n",
       "  <tbody>\n",
       "    <tr>\n",
       "      <th>0</th>\n",
       "      <td>0</td>\n",
       "      <td>4.7104 , -74.0304</td>\n",
       "      <td>1842.50</td>\n",
       "      <td>113.55</td>\n",
       "      <td>15.59</td>\n",
       "      <td>0.0</td>\n",
       "      <td>4.17</td>\n",
       "      <td>30.39</td>\n",
       "      <td>37.60</td>\n",
       "      <td>6.78</td>\n",
       "      <td>...</td>\n",
       "      <td>Red</td>\n",
       "      <td>Unhealthy</td>\n",
       "      <td>2020-11-24 20:00:00</td>\n",
       "      <td>Usaquen</td>\n",
       "      <td>2774</td>\n",
       "      <td>4.71035</td>\n",
       "      <td>-74.030417</td>\n",
       "      <td>TV-9 No 133-95</td>\n",
       "      <td>La estación se encuentra en la azotea del edif...</td>\n",
       "      <td>Estacion Usaquén</td>\n",
       "    </tr>\n",
       "    <tr>\n",
       "      <th>1</th>\n",
       "      <td>1</td>\n",
       "      <td>4.7104 , -74.0304</td>\n",
       "      <td>1762.39</td>\n",
       "      <td>114.44</td>\n",
       "      <td>10.88</td>\n",
       "      <td>0.0</td>\n",
       "      <td>3.01</td>\n",
       "      <td>33.88</td>\n",
       "      <td>41.10</td>\n",
       "      <td>4.37</td>\n",
       "      <td>...</td>\n",
       "      <td>Red</td>\n",
       "      <td>Unhealthy</td>\n",
       "      <td>2020-11-24 21:00:00</td>\n",
       "      <td>Usaquen</td>\n",
       "      <td>2774</td>\n",
       "      <td>4.71035</td>\n",
       "      <td>-74.030417</td>\n",
       "      <td>TV-9 No 133-95</td>\n",
       "      <td>La estación se encuentra en la azotea del edif...</td>\n",
       "      <td>Estacion Usaquén</td>\n",
       "    </tr>\n",
       "    <tr>\n",
       "      <th>2</th>\n",
       "      <td>2</td>\n",
       "      <td>4.7104 , -74.0304</td>\n",
       "      <td>1535.42</td>\n",
       "      <td>98.35</td>\n",
       "      <td>10.71</td>\n",
       "      <td>0.0</td>\n",
       "      <td>2.24</td>\n",
       "      <td>32.22</td>\n",
       "      <td>37.22</td>\n",
       "      <td>2.44</td>\n",
       "      <td>...</td>\n",
       "      <td>Red</td>\n",
       "      <td>Unhealthy</td>\n",
       "      <td>2020-11-24 22:00:00</td>\n",
       "      <td>Usaquen</td>\n",
       "      <td>2774</td>\n",
       "      <td>4.71035</td>\n",
       "      <td>-74.030417</td>\n",
       "      <td>TV-9 No 133-95</td>\n",
       "      <td>La estación se encuentra en la azotea del edif...</td>\n",
       "      <td>Estacion Usaquén</td>\n",
       "    </tr>\n",
       "    <tr>\n",
       "      <th>3</th>\n",
       "      <td>3</td>\n",
       "      <td>4.7104 , -74.0304</td>\n",
       "      <td>1348.50</td>\n",
       "      <td>81.36</td>\n",
       "      <td>12.17</td>\n",
       "      <td>0.0</td>\n",
       "      <td>2.21</td>\n",
       "      <td>29.33</td>\n",
       "      <td>33.12</td>\n",
       "      <td>3.29</td>\n",
       "      <td>...</td>\n",
       "      <td>Red</td>\n",
       "      <td>Unhealthy</td>\n",
       "      <td>2020-11-24 23:00:00</td>\n",
       "      <td>Usaquen</td>\n",
       "      <td>2774</td>\n",
       "      <td>4.71035</td>\n",
       "      <td>-74.030417</td>\n",
       "      <td>TV-9 No 133-95</td>\n",
       "      <td>La estación se encuentra en la azotea del edif...</td>\n",
       "      <td>Estacion Usaquén</td>\n",
       "    </tr>\n",
       "    <tr>\n",
       "      <th>4</th>\n",
       "      <td>4</td>\n",
       "      <td>4.7104 , -74.0304</td>\n",
       "      <td>1241.68</td>\n",
       "      <td>79.57</td>\n",
       "      <td>11.82</td>\n",
       "      <td>0.0</td>\n",
       "      <td>2.77</td>\n",
       "      <td>29.11</td>\n",
       "      <td>32.28</td>\n",
       "      <td>8.36</td>\n",
       "      <td>...</td>\n",
       "      <td>Red</td>\n",
       "      <td>Unhealthy</td>\n",
       "      <td>2020-11-25 00:00:00</td>\n",
       "      <td>Usaquen</td>\n",
       "      <td>2774</td>\n",
       "      <td>4.71035</td>\n",
       "      <td>-74.030417</td>\n",
       "      <td>TV-9 No 133-95</td>\n",
       "      <td>La estación se encuentra en la azotea del edif...</td>\n",
       "      <td>Estacion Usaquén</td>\n",
       "    </tr>\n",
       "  </tbody>\n",
       "</table>\n",
       "<p>5 rows × 22 columns</p>\n",
       "</div>"
      ],
      "text/plain": [
       "   Unnamed: 0            lat_lon       co      no    no2   o3   so2  pm2_5  \\\n",
       "0           0  4.7104 , -74.0304  1842.50  113.55  15.59  0.0  4.17  30.39   \n",
       "1           1  4.7104 , -74.0304  1762.39  114.44  10.88  0.0  3.01  33.88   \n",
       "2           2  4.7104 , -74.0304  1535.42   98.35  10.71  0.0  2.24  32.22   \n",
       "3           3  4.7104 , -74.0304  1348.50   81.36  12.17  0.0  2.21  29.33   \n",
       "4           4  4.7104 , -74.0304  1241.68   79.57  11.82  0.0  2.77  29.11   \n",
       "\n",
       "    pm10   nh3  ...  color      Level                 date     name height  \\\n",
       "0  37.60  6.78  ...    Red  Unhealthy  2020-11-24 20:00:00  Usaquen   2774   \n",
       "1  41.10  4.37  ...    Red  Unhealthy  2020-11-24 21:00:00  Usaquen   2774   \n",
       "2  37.22  2.44  ...    Red  Unhealthy  2020-11-24 22:00:00  Usaquen   2774   \n",
       "3  33.12  3.29  ...    Red  Unhealthy  2020-11-24 23:00:00  Usaquen   2774   \n",
       "4  32.28  8.36  ...    Red  Unhealthy  2020-11-25 00:00:00  Usaquen   2774   \n",
       "\n",
       "  latitude  longitude        location  \\\n",
       "0  4.71035 -74.030417  TV-9 No 133-95   \n",
       "1  4.71035 -74.030417  TV-9 No 133-95   \n",
       "2  4.71035 -74.030417  TV-9 No 133-95   \n",
       "3  4.71035 -74.030417  TV-9 No 133-95   \n",
       "4  4.71035 -74.030417  TV-9 No 133-95   \n",
       "\n",
       "                                           STA_Notes  ImageDescription  \n",
       "0  La estación se encuentra en la azotea del edif...  Estacion Usaquén  \n",
       "1  La estación se encuentra en la azotea del edif...  Estacion Usaquén  \n",
       "2  La estación se encuentra en la azotea del edif...  Estacion Usaquén  \n",
       "3  La estación se encuentra en la azotea del edif...  Estacion Usaquén  \n",
       "4  La estación se encuentra en la azotea del edif...  Estacion Usaquén  \n",
       "\n",
       "[5 rows x 22 columns]"
      ]
     },
     "execution_count": 10,
     "metadata": {},
     "output_type": "execute_result"
    }
   ],
   "source": [
    "df_data.head()"
   ]
  },
  {
   "cell_type": "code",
   "execution_count": 11,
   "metadata": {},
   "outputs": [
    {
     "name": "stdout",
     "output_type": "stream",
     "text": [
      "Unnamed: 0\n",
      "lat_lon\n",
      "co\n",
      "no\n",
      "no2\n",
      "o3\n",
      "so2\n",
      "pm2_5\n",
      "pm10\n",
      "nh3\n",
      "aqi\n",
      "range_h\n",
      "color\n",
      "Level\n",
      "date\n",
      "name\n",
      "height\n",
      "latitude\n",
      "longitude\n",
      "location\n",
      "STA_Notes\n",
      "ImageDescription\n"
     ]
    }
   ],
   "source": [
    "for i in df_data:\n",
    "    print(i)"
   ]
  },
  {
   "cell_type": "code",
   "execution_count": 43,
   "metadata": {},
   "outputs": [],
   "source": [
    "df_monitoreo = df_data.groupby('name').agg({'name': 'first',\n",
    "                             'latitude': 'first',\n",
    "                             'longitude': 'first',\n",
    "                             'location': 'first',\n",
    "                             'STA_Notes': 'first',\n",
    "                             'ImageDescription': 'first'\n",
    "                             })"
   ]
  },
  {
   "cell_type": "code",
   "execution_count": 15,
   "metadata": {},
   "outputs": [],
   "source": [
    "def distancia_euclidiana(lat1, lon1, lat2, lon2):\n",
    "    return math.sqrt((lat2 - lat1)**2 + (lon2 - lon1)**2)"
   ]
  },
  {
   "cell_type": "code",
   "execution_count": 38,
   "metadata": {},
   "outputs": [],
   "source": [
    "clarita = {'latitude': 4.579453,'longitude': -74.160147}\n",
    "mamo = {'latitude': 4.736124,'longitude': -74.052315}\n",
    "abuelita = {'latitude': 4.597583,'longitude': -74.146780}"
   ]
  },
  {
   "cell_type": "code",
   "execution_count": 30,
   "metadata": {},
   "outputs": [],
   "source": [
    "df_monitoreo['latitude'] = df_monitoreo['latitude'].astype(float)\n",
    "df_monitoreo['longitude'] = df_monitoreo['longitude'].astype(float)"
   ]
  },
  {
   "cell_type": "code",
   "execution_count": 49,
   "metadata": {},
   "outputs": [
    {
     "name": "stdout",
     "output_type": "stream",
     "text": [
      "Red mas cercana => Colina\n"
     ]
    }
   ],
   "source": [
    "\n",
    "distancia_minima = 9999999\n",
    "red_cercana = ''\n",
    "for indice, red in df_monitoreo.iterrows():\n",
    "    distancia = distancia_euclidiana(red['latitude'], red['longitude'],mamo['latitude'],mamo['longitude'])    \n",
    "    if distancia < distancia_minima:\n",
    "        distancia_minima = distancia\n",
    "        red_cercana = red['name']\n",
    "print(f\"Red mas cercana => {red_cercana}\")"
   ]
  },
  {
   "cell_type": "code",
   "execution_count": null,
   "metadata": {},
   "outputs": [],
   "source": []
  },
  {
   "cell_type": "code",
   "execution_count": null,
   "metadata": {},
   "outputs": [],
   "source": []
  }
 ],
 "metadata": {
  "kernelspec": {
   "display_name": "epoc_analytics",
   "language": "python",
   "name": "python3"
  },
  "language_info": {
   "codemirror_mode": {
    "name": "ipython",
    "version": 3
   },
   "file_extension": ".py",
   "mimetype": "text/x-python",
   "name": "python",
   "nbconvert_exporter": "python",
   "pygments_lexer": "ipython3",
   "version": "3.12.0"
  }
 },
 "nbformat": 4,
 "nbformat_minor": 2
}
